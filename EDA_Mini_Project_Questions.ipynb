{
 "cells": [
  {
   "cell_type": "markdown",
   "metadata": {},
   "source": [
    "<h1 class=\"list-group-item list-group-item-action active\" data-toggle=\"list\"  role=\"tab\" aria-controls=\"home\">Exploratory Data Analysis Mini Project </h1>\n",
    "     \n"
   ]
  },
  {
   "cell_type": "markdown",
   "metadata": {},
   "source": [
    "<h4 class=\"list-group-item list-group-item-action active\" >1. DESCRIPTIVE STATISTICS</h4>\n",
    "\n",
    ">#### 1. Create a dataframe using below data and answer the below questions:\n",
    "\n",
    "        Hourly_Income = [1000,2009,24418,444478,324235,243242,3434234,7567457,9235,238237,1312,3412]\n",
    "        Hourly_Expense =  [651361,217371,2746,2356,13436,5732,346346,3463,1132,23534,242235,235235]\n",
    "        family_members_count = [3,4,2,3,1,4,5,6,3,6,3,5]\n",
    "        House_rent = [1299,2300,3411,3422,4566,4211,4600,736,672,0,734,2374]\n",
    "        Highest_income_Member = [\"Olivia\",\"George\",\"Isla\",\"Harry\",\"Ava\",\"Noah\",\"Sophia\",\"Jacobi\",\"Freddie\",\"Ella\",\"Grace\",\"Ella\"]\n",
    "        \n",
    "        \n",
    ">##### A. Display the five point summary of the data. \n",
    ">##### B. What is the mean of the hourly expense?\n",
    ">##### C. What is the median of the hourly expense?\n",
    ">##### D. Find the family member with maximum income and using a suitable graph.\n",
    ">##### E. Calculate IQR(the difference between 75% and 25% quartile) for `Hourly_Income` and `Hourly_Expense`.\n",
    ">##### F. Calculate the standard deviation for first 2 columns.\n",
    ">##### G. Calculate variance for the first 4 columns"
   ]
  },
  {
   "cell_type": "code",
   "execution_count": 1,
   "metadata": {},
   "outputs": [],
   "source": [
    "#importing all libraries that might required in analysis\n",
    "import pandas as pd\n",
    "import numpy as np\n",
    "import seaborn as sns\n",
    "import matplotlib.pyplot as plt\n"
   ]
  },
  {
   "cell_type": "code",
   "execution_count": 2,
   "metadata": {},
   "outputs": [
    {
     "data": {
      "text/html": [
       "<div>\n",
       "<style scoped>\n",
       "    .dataframe tbody tr th:only-of-type {\n",
       "        vertical-align: middle;\n",
       "    }\n",
       "\n",
       "    .dataframe tbody tr th {\n",
       "        vertical-align: top;\n",
       "    }\n",
       "\n",
       "    .dataframe thead th {\n",
       "        text-align: right;\n",
       "    }\n",
       "</style>\n",
       "<table border=\"1\" class=\"dataframe\">\n",
       "  <thead>\n",
       "    <tr style=\"text-align: right;\">\n",
       "      <th></th>\n",
       "      <th>Hourly_Income</th>\n",
       "      <th>Hourly_Expense</th>\n",
       "      <th>family_members_count</th>\n",
       "      <th>House_rent</th>\n",
       "      <th>Highest_income_Member</th>\n",
       "    </tr>\n",
       "  </thead>\n",
       "  <tbody>\n",
       "    <tr>\n",
       "      <th>0</th>\n",
       "      <td>1000</td>\n",
       "      <td>651361</td>\n",
       "      <td>3</td>\n",
       "      <td>1299</td>\n",
       "      <td>Olivia</td>\n",
       "    </tr>\n",
       "    <tr>\n",
       "      <th>1</th>\n",
       "      <td>2009</td>\n",
       "      <td>217371</td>\n",
       "      <td>4</td>\n",
       "      <td>2300</td>\n",
       "      <td>George</td>\n",
       "    </tr>\n",
       "    <tr>\n",
       "      <th>2</th>\n",
       "      <td>24418</td>\n",
       "      <td>2746</td>\n",
       "      <td>2</td>\n",
       "      <td>3411</td>\n",
       "      <td>Isla</td>\n",
       "    </tr>\n",
       "    <tr>\n",
       "      <th>3</th>\n",
       "      <td>444478</td>\n",
       "      <td>2356</td>\n",
       "      <td>3</td>\n",
       "      <td>3422</td>\n",
       "      <td>Harry</td>\n",
       "    </tr>\n",
       "    <tr>\n",
       "      <th>4</th>\n",
       "      <td>324235</td>\n",
       "      <td>13436</td>\n",
       "      <td>1</td>\n",
       "      <td>4566</td>\n",
       "      <td>Ava</td>\n",
       "    </tr>\n",
       "    <tr>\n",
       "      <th>5</th>\n",
       "      <td>243242</td>\n",
       "      <td>5732</td>\n",
       "      <td>4</td>\n",
       "      <td>4211</td>\n",
       "      <td>Noah</td>\n",
       "    </tr>\n",
       "    <tr>\n",
       "      <th>6</th>\n",
       "      <td>3434234</td>\n",
       "      <td>346346</td>\n",
       "      <td>5</td>\n",
       "      <td>4600</td>\n",
       "      <td>Sophia</td>\n",
       "    </tr>\n",
       "    <tr>\n",
       "      <th>7</th>\n",
       "      <td>7567457</td>\n",
       "      <td>3463</td>\n",
       "      <td>6</td>\n",
       "      <td>736</td>\n",
       "      <td>Jacobi</td>\n",
       "    </tr>\n",
       "    <tr>\n",
       "      <th>8</th>\n",
       "      <td>9235</td>\n",
       "      <td>1132</td>\n",
       "      <td>3</td>\n",
       "      <td>672</td>\n",
       "      <td>Freddie</td>\n",
       "    </tr>\n",
       "    <tr>\n",
       "      <th>9</th>\n",
       "      <td>238237</td>\n",
       "      <td>23534</td>\n",
       "      <td>6</td>\n",
       "      <td>0</td>\n",
       "      <td>Ella</td>\n",
       "    </tr>\n",
       "    <tr>\n",
       "      <th>10</th>\n",
       "      <td>1312</td>\n",
       "      <td>242235</td>\n",
       "      <td>3</td>\n",
       "      <td>734</td>\n",
       "      <td>Grace</td>\n",
       "    </tr>\n",
       "    <tr>\n",
       "      <th>11</th>\n",
       "      <td>3412</td>\n",
       "      <td>235235</td>\n",
       "      <td>5</td>\n",
       "      <td>2374</td>\n",
       "      <td>Ella</td>\n",
       "    </tr>\n",
       "  </tbody>\n",
       "</table>\n",
       "</div>"
      ],
      "text/plain": [
       "    Hourly_Income  Hourly_Expense  family_members_count  House_rent  \\\n",
       "0            1000          651361                     3        1299   \n",
       "1            2009          217371                     4        2300   \n",
       "2           24418            2746                     2        3411   \n",
       "3          444478            2356                     3        3422   \n",
       "4          324235           13436                     1        4566   \n",
       "5          243242            5732                     4        4211   \n",
       "6         3434234          346346                     5        4600   \n",
       "7         7567457            3463                     6         736   \n",
       "8            9235            1132                     3         672   \n",
       "9          238237           23534                     6           0   \n",
       "10           1312          242235                     3         734   \n",
       "11           3412          235235                     5        2374   \n",
       "\n",
       "   Highest_income_Member  \n",
       "0                 Olivia  \n",
       "1                 George  \n",
       "2                   Isla  \n",
       "3                  Harry  \n",
       "4                    Ava  \n",
       "5                   Noah  \n",
       "6                 Sophia  \n",
       "7                 Jacobi  \n",
       "8                Freddie  \n",
       "9                   Ella  \n",
       "10                 Grace  \n",
       "11                  Ella  "
      ]
     },
     "execution_count": 2,
     "metadata": {},
     "output_type": "execute_result"
    }
   ],
   "source": [
    "data={\"Hourly_Income\": [1000,2009,24418,444478,324235,243242,3434234,7567457,9235,238237,1312,3412],\n",
    "\"Hourly_Expense\" : [651361,217371,2746,2356,13436,5732,346346,3463,1132,23534,242235,235235],\n",
    "\"family_members_count\" : [3,4,2,3,1,4,5,6,3,6,3,5],\n",
    "\"House_rent\" : [1299,2300,3411,3422,4566,4211,4600,736,672,0,734,2374],\n",
    "\"Highest_income_Member\" : [\"Olivia\",\"George\",\"Isla\",\"Harry\",\"Ava\",\"Noah\",\"Sophia\",\"Jacobi\",\"Freddie\",\"Ella\",\"Grace\",\"Ella\"]}\n",
    "\n",
    "df=pd.DataFrame(data)\n",
    "df"
   ]
  },
  {
   "cell_type": "code",
   "execution_count": 3,
   "metadata": {},
   "outputs": [
    {
     "name": "stdout",
     "output_type": "stream",
     "text": [
      "<class 'pandas.core.frame.DataFrame'>\n",
      "RangeIndex: 12 entries, 0 to 11\n",
      "Data columns (total 5 columns):\n",
      " #   Column                 Non-Null Count  Dtype \n",
      "---  ------                 --------------  ----- \n",
      " 0   Hourly_Income          12 non-null     int64 \n",
      " 1   Hourly_Expense         12 non-null     int64 \n",
      " 2   family_members_count   12 non-null     int64 \n",
      " 3   House_rent             12 non-null     int64 \n",
      " 4   Highest_income_Member  12 non-null     object\n",
      "dtypes: int64(4), object(1)\n",
      "memory usage: 496.0+ bytes\n"
     ]
    }
   ],
   "source": [
    "df.info()"
   ]
  },
  {
   "cell_type": "code",
   "execution_count": 4,
   "metadata": {},
   "outputs": [
    {
     "data": {
      "text/html": [
       "<div>\n",
       "<style scoped>\n",
       "    .dataframe tbody tr th:only-of-type {\n",
       "        vertical-align: middle;\n",
       "    }\n",
       "\n",
       "    .dataframe tbody tr th {\n",
       "        vertical-align: top;\n",
       "    }\n",
       "\n",
       "    .dataframe thead th {\n",
       "        text-align: right;\n",
       "    }\n",
       "</style>\n",
       "<table border=\"1\" class=\"dataframe\">\n",
       "  <thead>\n",
       "    <tr style=\"text-align: right;\">\n",
       "      <th></th>\n",
       "      <th>Hourly_Income</th>\n",
       "      <th>Hourly_Expense</th>\n",
       "      <th>family_members_count</th>\n",
       "      <th>House_rent</th>\n",
       "    </tr>\n",
       "  </thead>\n",
       "  <tbody>\n",
       "    <tr>\n",
       "      <th>count</th>\n",
       "      <td>1.200000e+01</td>\n",
       "      <td>12.000000</td>\n",
       "      <td>12.000000</td>\n",
       "      <td>12.000000</td>\n",
       "    </tr>\n",
       "    <tr>\n",
       "      <th>mean</th>\n",
       "      <td>1.024439e+06</td>\n",
       "      <td>145412.250000</td>\n",
       "      <td>3.750000</td>\n",
       "      <td>2360.416667</td>\n",
       "    </tr>\n",
       "    <tr>\n",
       "      <th>std</th>\n",
       "      <td>2.274083e+06</td>\n",
       "      <td>202831.565333</td>\n",
       "      <td>1.544786</td>\n",
       "      <td>1661.663813</td>\n",
       "    </tr>\n",
       "    <tr>\n",
       "      <th>min</th>\n",
       "      <td>1.000000e+03</td>\n",
       "      <td>1132.000000</td>\n",
       "      <td>1.000000</td>\n",
       "      <td>0.000000</td>\n",
       "    </tr>\n",
       "    <tr>\n",
       "      <th>25%</th>\n",
       "      <td>3.061250e+03</td>\n",
       "      <td>3283.750000</td>\n",
       "      <td>3.000000</td>\n",
       "      <td>735.500000</td>\n",
       "    </tr>\n",
       "    <tr>\n",
       "      <th>50%</th>\n",
       "      <td>1.313275e+05</td>\n",
       "      <td>18485.000000</td>\n",
       "      <td>3.500000</td>\n",
       "      <td>2337.000000</td>\n",
       "    </tr>\n",
       "    <tr>\n",
       "      <th>75%</th>\n",
       "      <td>3.542958e+05</td>\n",
       "      <td>236985.000000</td>\n",
       "      <td>5.000000</td>\n",
       "      <td>3619.250000</td>\n",
       "    </tr>\n",
       "    <tr>\n",
       "      <th>max</th>\n",
       "      <td>7.567457e+06</td>\n",
       "      <td>651361.000000</td>\n",
       "      <td>6.000000</td>\n",
       "      <td>4600.000000</td>\n",
       "    </tr>\n",
       "  </tbody>\n",
       "</table>\n",
       "</div>"
      ],
      "text/plain": [
       "       Hourly_Income  Hourly_Expense  family_members_count   House_rent\n",
       "count   1.200000e+01       12.000000             12.000000    12.000000\n",
       "mean    1.024439e+06   145412.250000              3.750000  2360.416667\n",
       "std     2.274083e+06   202831.565333              1.544786  1661.663813\n",
       "min     1.000000e+03     1132.000000              1.000000     0.000000\n",
       "25%     3.061250e+03     3283.750000              3.000000   735.500000\n",
       "50%     1.313275e+05    18485.000000              3.500000  2337.000000\n",
       "75%     3.542958e+05   236985.000000              5.000000  3619.250000\n",
       "max     7.567457e+06   651361.000000              6.000000  4600.000000"
      ]
     },
     "execution_count": 4,
     "metadata": {},
     "output_type": "execute_result"
    }
   ],
   "source": [
    "df.describe()"
   ]
  },
  {
   "cell_type": "code",
   "execution_count": 5,
   "metadata": {},
   "outputs": [
    {
     "name": "stdout",
     "output_type": "stream",
     "text": [
      "minimum of Hourly_Income:-- 1000.0\n",
      "25% of Hourly_Income:-- 3061.25\n",
      "50% of Hourly_Income:-- 131327.5\n",
      "75% of Hourly_Income:-- 354295.75\n",
      "maximum of Hourly_Income:-- 7567457.0\n",
      "#\n",
      "minimum of Hourly_Expense:-- 1132.0\n",
      "25% of Hourly_Expense:-- 3283.75\n",
      "50% of Hourly_Expense:-- 18485.0\n",
      "75% of Hourly_Expense:-- 236985.0\n",
      "maximum of Hourly_Expense:-- 651361.0\n",
      "#\n",
      "minimum of family_members_count:-- 1.0\n",
      "25% of family_members_count:-- 3.0\n",
      "50% of family_members_count:-- 3.5\n",
      "75% of family_members_count:-- 5.0\n",
      "maximum of family_members_count:-- 6.0\n",
      "#\n",
      "minimum of House_rent:-- 0.0\n",
      "25% of House_rent:-- 735.5\n",
      "50% of House_rent:-- 2337.0\n",
      "75% of House_rent:-- 3619.25\n",
      "maximum of House_rent:-- 4600.0\n",
      "#\n"
     ]
    },
    {
     "data": {
      "image/png": "[encoded data removed]",
      "text/plain": [
       "<Figure size 1440x576 with 1 Axes>"
      ]
     },
     "metadata": {
      "needs_background": "light"
     },
     "output_type": "display_data"
    },
    {
     "data": {
      "image/png": "[encoded data removed]",
      "text/plain": [
       "<Figure size 1440x576 with 1 Axes>"
      ]
     },
     "metadata": {
      "needs_background": "light"
     },
     "output_type": "display_data"
    },
    {
     "data": {
      "image/png": "[encoded data removed]",
      "text/plain": [
       "<Figure size 1440x576 with 1 Axes>"
      ]
     },
     "metadata": {
      "needs_background": "light"
     },
     "output_type": "display_data"
    },
    {
     "data": {
      "image/png": "[encoded data removed]",
      "text/plain": [
       "<Figure size 1440x576 with 1 Axes>"
      ]
     },
     "metadata": {
      "needs_background": "light"
     },
     "output_type": "display_data"
    }
   ],
   "source": [
    "#A. Display the five point summary of the data.\n",
    "for h,i in enumerate(df.columns[:-1]):\n",
    "    print(f\"minimum of {i}:--\",df[i].quantile(0.0))\n",
    "    print(f\"25% of {i}:--\",df[i].quantile(0.25))\n",
    "    print(f\"50% of {i}:--\",df[i].quantile(0.50))\n",
    "    print(f\"75% of {i}:--\",df[i].quantile(0.75))\n",
    "    print(f\"maximum of {i}:--\",df[i].quantile(1))\n",
    "    plt.figure(figsize=(20,8))\n",
    "#    axi=plt.subplot(2,2,h+1)\n",
    "    plt.subplot(2,2,h+1)\n",
    "    sns.boxplot(x=df[i])\n",
    "    print(\"#\")\n",
    "#     plt.show()\n",
    "\n",
    "#i have used boxplot to display five point summary of data "
   ]
  },
  {
   "cell_type": "code",
   "execution_count": 6,
   "metadata": {},
   "outputs": [
    {
     "name": "stdout",
     "output_type": "stream",
     "text": [
      "mean value of varibale hourly expense is:--> 145412.25\n"
     ]
    }
   ],
   "source": [
    "#What is the mean of the hourly expense?\n",
    "print(\"mean value of varibale hourly expense is:-->\",df['Hourly_Expense'].mean())"
   ]
  },
  {
   "cell_type": "code",
   "execution_count": 7,
   "metadata": {},
   "outputs": [
    {
     "name": "stdout",
     "output_type": "stream",
     "text": [
      "median value of varibale hourly expense is:--> 18485.0\n"
     ]
    }
   ],
   "source": [
    "#C. What is the median of the hourly expense?\n",
    "print(\"median value of varibale hourly expense is:-->\",df['Hourly_Expense'].median())"
   ]
  },
  {
   "cell_type": "code",
   "execution_count": 8,
   "metadata": {},
   "outputs": [
    {
     "data": {
      "text/plain": [
       "<AxesSubplot:xlabel='Highest_income_Member', ylabel='Hourly_Income'>"
      ]
     },
     "execution_count": 8,
     "metadata": {},
     "output_type": "execute_result"
    },
    {
     "data": {
      "image/png": "[encoded data removed]",
      "text/plain": [
       "<Figure size 1152x648 with 1 Axes>"
      ]
     },
     "metadata": {
      "needs_background": "light"
     },
     "output_type": "display_data"
    }
   ],
   "source": [
    "#D. Find the family member with maximum income and using a suitable graph.\n",
    "plt.figure(figsize=(16,9))\n",
    "sns.lineplot(x='Highest_income_Member',y='Hourly_Income',data=df)"
   ]
  },
  {
   "cell_type": "code",
   "execution_count": 9,
   "metadata": {},
   "outputs": [
    {
     "name": "stdout",
     "output_type": "stream",
     "text": [
      "IQR for Hourly_Income is :--> 351234.5\n",
      "\n",
      "IQR for Hourly_Expense is :--> 233701.25\n",
      "\n"
     ]
    }
   ],
   "source": [
    "# E. Calculate IQR(the difference between 75% and 25% quartile) for Hourly_Income and Hourly_Expense.\n",
    "for i in ['Hourly_Income','Hourly_Expense']:\n",
    "    q1=df[i].quantile(0.25)\n",
    "    q3=df[i].quantile(0.75)\n",
    "    IQR=q3-q1\n",
    "    print(f\"IQR for {i} is :-->\",IQR)\n",
    "    print()"
   ]
  },
  {
   "cell_type": "code",
   "execution_count": 10,
   "metadata": {},
   "outputs": [
    {
     "data": {
      "text/plain": [
       "Hourly_Income     2.274083e+06\n",
       "Hourly_Expense    2.028316e+05\n",
       "dtype: float64"
      ]
     },
     "execution_count": 10,
     "metadata": {},
     "output_type": "execute_result"
    }
   ],
   "source": [
    "# F. Calculate the standard deviation for first 2 columns\n",
    "df[df.columns[:2]].std()"
   ]
  },
  {
   "cell_type": "code",
   "execution_count": 11,
   "metadata": {},
   "outputs": [
    {
     "data": {
      "text/plain": [
       "Hourly_Income           5.171452e+12\n",
       "Hourly_Expense          4.114064e+10\n",
       "family_members_count    2.386364e+00\n",
       "House_rent              2.761127e+06\n",
       "dtype: float64"
      ]
     },
     "execution_count": 11,
     "metadata": {},
     "output_type": "execute_result"
    }
   ],
   "source": [
    "# G.Calculate variance for the first 4 columns\n",
    "df[df.columns[:4]].var()"
   ]
  },
  {
   "cell_type": "markdown",
   "metadata": {},
   "source": [
    "<h4 class=\"list-group-item list-group-item-action active\" >2. Preliminary Wrangling,</h4>\n",
    "\n",
    ">### Dataset Information: \n",
    "\n",
    "Dataset recording people to invest in each other in a way that is financially and socially rewarding. On loans, borrowers list loan requests between $ 2,000 and $ 35,000 and individual investors invest as little as $ 25 in each loan listing they select. Prosper handles the servicing of the loan on behalf of the matched borrowers and investors.\n",
    "\n",
    "\n",
    "\n",
    "\n",
    ">#### A. Read the dataset called Pri-Load.csv\n",
    ">#### B.  Check the data type and adjust datatype for all other categorical columns.\n",
    ">#### C. If you find any of the missing values in the ProsperRating column, then drop it.\n",
    "\n"
   ]
  },
  {
   "cell_type": "code",
   "execution_count": 12,
   "metadata": {},
   "outputs": [
    {
     "data": {
      "text/html": [
       "<div>\n",
       "<style scoped>\n",
       "    .dataframe tbody tr th:only-of-type {\n",
       "        vertical-align: middle;\n",
       "    }\n",
       "\n",
       "    .dataframe tbody tr th {\n",
       "        vertical-align: top;\n",
       "    }\n",
       "\n",
       "    .dataframe thead th {\n",
       "        text-align: right;\n",
       "    }\n",
       "</style>\n",
       "<table border=\"1\" class=\"dataframe\">\n",
       "  <thead>\n",
       "    <tr style=\"text-align: right;\">\n",
       "      <th></th>\n",
       "      <th>ListingCreationDate</th>\n",
       "      <th>Term</th>\n",
       "      <th>LoanStatus</th>\n",
       "      <th>ClosedDate</th>\n",
       "      <th>BorrowerAPR</th>\n",
       "      <th>BorrowerRate</th>\n",
       "      <th>LenderYield</th>\n",
       "      <th>ProsperRating (Alpha)</th>\n",
       "      <th>ProsperScore</th>\n",
       "      <th>ListingCategory (numeric)</th>\n",
       "      <th>...</th>\n",
       "      <th>EmploymentStatus</th>\n",
       "      <th>AmountDelinquent</th>\n",
       "      <th>StatedMonthlyIncome</th>\n",
       "      <th>LoanCurrentDaysDelinquent</th>\n",
       "      <th>LoanOriginalAmount</th>\n",
       "      <th>LoanOriginationDate</th>\n",
       "      <th>LoanOriginationQuarter</th>\n",
       "      <th>MonthlyLoanPayment</th>\n",
       "      <th>LP_InterestandFees</th>\n",
       "      <th>Investors</th>\n",
       "    </tr>\n",
       "  </thead>\n",
       "  <tbody>\n",
       "    <tr>\n",
       "      <th>0</th>\n",
       "      <td>2007-08-26 19:09:29.263000000</td>\n",
       "      <td>36</td>\n",
       "      <td>Completed</td>\n",
       "      <td>14-08-2009 0.00</td>\n",
       "      <td>0.16516</td>\n",
       "      <td>0.1580</td>\n",
       "      <td>0.1380</td>\n",
       "      <td>NaN</td>\n",
       "      <td>NaN</td>\n",
       "      <td>0</td>\n",
       "      <td>...</td>\n",
       "      <td>Self-employed</td>\n",
       "      <td>472.0</td>\n",
       "      <td>3083.333333</td>\n",
       "      <td>0</td>\n",
       "      <td>9425</td>\n",
       "      <td>12-09-2007 0.00</td>\n",
       "      <td>Q3 2007</td>\n",
       "      <td>330.43</td>\n",
       "      <td>1971.14</td>\n",
       "      <td>258</td>\n",
       "    </tr>\n",
       "    <tr>\n",
       "      <th>1</th>\n",
       "      <td>2014-02-27 08:28:07.900000000</td>\n",
       "      <td>36</td>\n",
       "      <td>Current</td>\n",
       "      <td>NaN</td>\n",
       "      <td>0.12016</td>\n",
       "      <td>0.0920</td>\n",
       "      <td>0.0820</td>\n",
       "      <td>A</td>\n",
       "      <td>7.0</td>\n",
       "      <td>2</td>\n",
       "      <td>...</td>\n",
       "      <td>Employed</td>\n",
       "      <td>0.0</td>\n",
       "      <td>6125.000000</td>\n",
       "      <td>0</td>\n",
       "      <td>10000</td>\n",
       "      <td>03-03-2014 0.00</td>\n",
       "      <td>Q1 2014</td>\n",
       "      <td>318.93</td>\n",
       "      <td>0.00</td>\n",
       "      <td>1</td>\n",
       "    </tr>\n",
       "    <tr>\n",
       "      <th>2</th>\n",
       "      <td>2007-01-05 15:00:47.090000000</td>\n",
       "      <td>36</td>\n",
       "      <td>Completed</td>\n",
       "      <td>17-12-2009 0.00</td>\n",
       "      <td>0.28269</td>\n",
       "      <td>0.2750</td>\n",
       "      <td>0.2400</td>\n",
       "      <td>NaN</td>\n",
       "      <td>NaN</td>\n",
       "      <td>0</td>\n",
       "      <td>...</td>\n",
       "      <td>Not available</td>\n",
       "      <td>NaN</td>\n",
       "      <td>2083.333333</td>\n",
       "      <td>0</td>\n",
       "      <td>3001</td>\n",
       "      <td>17-01-2007 0.00</td>\n",
       "      <td>Q1 2007</td>\n",
       "      <td>123.32</td>\n",
       "      <td>1185.63</td>\n",
       "      <td>41</td>\n",
       "    </tr>\n",
       "    <tr>\n",
       "      <th>3</th>\n",
       "      <td>2012-10-22 11:02:35.010000000</td>\n",
       "      <td>36</td>\n",
       "      <td>Current</td>\n",
       "      <td>NaN</td>\n",
       "      <td>0.12528</td>\n",
       "      <td>0.0974</td>\n",
       "      <td>0.0874</td>\n",
       "      <td>A</td>\n",
       "      <td>9.0</td>\n",
       "      <td>16</td>\n",
       "      <td>...</td>\n",
       "      <td>Employed</td>\n",
       "      <td>10056.0</td>\n",
       "      <td>2875.000000</td>\n",
       "      <td>0</td>\n",
       "      <td>10000</td>\n",
       "      <td>01-11-2012 0.00</td>\n",
       "      <td>Q4 2012</td>\n",
       "      <td>321.45</td>\n",
       "      <td>1052.11</td>\n",
       "      <td>158</td>\n",
       "    </tr>\n",
       "    <tr>\n",
       "      <th>4</th>\n",
       "      <td>2013-09-14 18:38:39.097000000</td>\n",
       "      <td>36</td>\n",
       "      <td>Current</td>\n",
       "      <td>NaN</td>\n",
       "      <td>0.24614</td>\n",
       "      <td>0.2085</td>\n",
       "      <td>0.1985</td>\n",
       "      <td>D</td>\n",
       "      <td>4.0</td>\n",
       "      <td>2</td>\n",
       "      <td>...</td>\n",
       "      <td>Employed</td>\n",
       "      <td>0.0</td>\n",
       "      <td>9583.333333</td>\n",
       "      <td>0</td>\n",
       "      <td>15000</td>\n",
       "      <td>20-09-2013 0.00</td>\n",
       "      <td>Q3 2013</td>\n",
       "      <td>563.97</td>\n",
       "      <td>1256.63</td>\n",
       "      <td>20</td>\n",
       "    </tr>\n",
       "  </tbody>\n",
       "</table>\n",
       "<p>5 rows × 22 columns</p>\n",
       "</div>"
      ],
      "text/plain": [
       "             ListingCreationDate  Term LoanStatus       ClosedDate  \\\n",
       "0  2007-08-26 19:09:29.263000000    36  Completed  14-08-2009 0.00   \n",
       "1  2014-02-27 08:28:07.900000000    36    Current              NaN   \n",
       "2  2007-01-05 15:00:47.090000000    36  Completed  17-12-2009 0.00   \n",
       "3  2012-10-22 11:02:35.010000000    36    Current              NaN   \n",
       "4  2013-09-14 18:38:39.097000000    36    Current              NaN   \n",
       "\n",
       "   BorrowerAPR  BorrowerRate  LenderYield ProsperRating (Alpha)  ProsperScore  \\\n",
       "0      0.16516        0.1580       0.1380                   NaN           NaN   \n",
       "1      0.12016        0.0920       0.0820                     A           7.0   \n",
       "2      0.28269        0.2750       0.2400                   NaN           NaN   \n",
       "3      0.12528        0.0974       0.0874                     A           9.0   \n",
       "4      0.24614        0.2085       0.1985                     D           4.0   \n",
       "\n",
       "   ListingCategory (numeric)  ... EmploymentStatus AmountDelinquent  \\\n",
       "0                          0  ...    Self-employed            472.0   \n",
       "1                          2  ...         Employed              0.0   \n",
       "2                          0  ...    Not available              NaN   \n",
       "3                         16  ...         Employed          10056.0   \n",
       "4                          2  ...         Employed              0.0   \n",
       "\n",
       "  StatedMonthlyIncome  LoanCurrentDaysDelinquent  LoanOriginalAmount  \\\n",
       "0         3083.333333                          0                9425   \n",
       "1         6125.000000                          0               10000   \n",
       "2         2083.333333                          0                3001   \n",
       "3         2875.000000                          0               10000   \n",
       "4         9583.333333                          0               15000   \n",
       "\n",
       "   LoanOriginationDate  LoanOriginationQuarter MonthlyLoanPayment  \\\n",
       "0      12-09-2007 0.00                 Q3 2007             330.43   \n",
       "1      03-03-2014 0.00                 Q1 2014             318.93   \n",
       "2      17-01-2007 0.00                 Q1 2007             123.32   \n",
       "3      01-11-2012 0.00                 Q4 2012             321.45   \n",
       "4      20-09-2013 0.00                 Q3 2013             563.97   \n",
       "\n",
       "  LP_InterestandFees  Investors  \n",
       "0            1971.14        258  \n",
       "1               0.00          1  \n",
       "2            1185.63         41  \n",
       "3            1052.11        158  \n",
       "4            1256.63         20  \n",
       "\n",
       "[5 rows x 22 columns]"
      ]
     },
     "execution_count": 12,
     "metadata": {},
     "output_type": "execute_result"
    }
   ],
   "source": [
    "# A. Read the dataset called Pri-Load.csv\n",
    "pri_load_df=pd.read_csv('Pri-Load.csv')\n",
    "pri_load_df.head()\n"
   ]
  },
  {
   "cell_type": "code",
   "execution_count": 13,
   "metadata": {},
   "outputs": [
    {
     "data": {
      "text/plain": [
       "ListingCreationDate           object\n",
       "Term                           int64\n",
       "LoanStatus                    object\n",
       "ClosedDate                    object\n",
       "BorrowerAPR                  float64\n",
       "BorrowerRate                 float64\n",
       "LenderYield                  float64\n",
       "ProsperRating (Alpha)         object\n",
       "ProsperScore                 float64\n",
       "ListingCategory (numeric)      int64\n",
       "BorrowerState                 object\n",
       "Occupation                    object\n",
       "EmploymentStatus              object\n",
       "AmountDelinquent             float64\n",
       "StatedMonthlyIncome          float64\n",
       "LoanCurrentDaysDelinquent      int64\n",
       "LoanOriginalAmount             int64\n",
       "LoanOriginationDate           object\n",
       "LoanOriginationQuarter        object\n",
       "MonthlyLoanPayment           float64\n",
       "LP_InterestandFees           float64\n",
       "Investors                      int64\n",
       "dtype: object"
      ]
     },
     "execution_count": 13,
     "metadata": {},
     "output_type": "execute_result"
    }
   ],
   "source": [
    "# B. Check the data type and adjust datatype for all other categorical columns.¶\n",
    "pri_load_df.dtypes"
   ]
  },
  {
   "cell_type": "code",
   "execution_count": 14,
   "metadata": {},
   "outputs": [
    {
     "data": {
      "text/html": [
       "<div>\n",
       "<style scoped>\n",
       "    .dataframe tbody tr th:only-of-type {\n",
       "        vertical-align: middle;\n",
       "    }\n",
       "\n",
       "    .dataframe tbody tr th {\n",
       "        vertical-align: top;\n",
       "    }\n",
       "\n",
       "    .dataframe thead th {\n",
       "        text-align: right;\n",
       "    }\n",
       "</style>\n",
       "<table border=\"1\" class=\"dataframe\">\n",
       "  <thead>\n",
       "    <tr style=\"text-align: right;\">\n",
       "      <th></th>\n",
       "      <th>BorrowerAPR</th>\n",
       "      <th>BorrowerRate</th>\n",
       "      <th>LenderYield</th>\n",
       "      <th>ProsperScore</th>\n",
       "      <th>AmountDelinquent</th>\n",
       "      <th>StatedMonthlyIncome</th>\n",
       "      <th>MonthlyLoanPayment</th>\n",
       "      <th>LP_InterestandFees</th>\n",
       "    </tr>\n",
       "  </thead>\n",
       "  <tbody>\n",
       "    <tr>\n",
       "      <th>0</th>\n",
       "      <td>0.16516</td>\n",
       "      <td>0.1580</td>\n",
       "      <td>0.1380</td>\n",
       "      <td>NaN</td>\n",
       "      <td>472.0</td>\n",
       "      <td>3083.333333</td>\n",
       "      <td>330.43</td>\n",
       "      <td>1971.14</td>\n",
       "    </tr>\n",
       "    <tr>\n",
       "      <th>1</th>\n",
       "      <td>0.12016</td>\n",
       "      <td>0.0920</td>\n",
       "      <td>0.0820</td>\n",
       "      <td>7.0</td>\n",
       "      <td>0.0</td>\n",
       "      <td>6125.000000</td>\n",
       "      <td>318.93</td>\n",
       "      <td>0.00</td>\n",
       "    </tr>\n",
       "    <tr>\n",
       "      <th>2</th>\n",
       "      <td>0.28269</td>\n",
       "      <td>0.2750</td>\n",
       "      <td>0.2400</td>\n",
       "      <td>NaN</td>\n",
       "      <td>NaN</td>\n",
       "      <td>2083.333333</td>\n",
       "      <td>123.32</td>\n",
       "      <td>1185.63</td>\n",
       "    </tr>\n",
       "    <tr>\n",
       "      <th>3</th>\n",
       "      <td>0.12528</td>\n",
       "      <td>0.0974</td>\n",
       "      <td>0.0874</td>\n",
       "      <td>9.0</td>\n",
       "      <td>10056.0</td>\n",
       "      <td>2875.000000</td>\n",
       "      <td>321.45</td>\n",
       "      <td>1052.11</td>\n",
       "    </tr>\n",
       "    <tr>\n",
       "      <th>4</th>\n",
       "      <td>0.24614</td>\n",
       "      <td>0.2085</td>\n",
       "      <td>0.1985</td>\n",
       "      <td>4.0</td>\n",
       "      <td>0.0</td>\n",
       "      <td>9583.333333</td>\n",
       "      <td>563.97</td>\n",
       "      <td>1256.63</td>\n",
       "    </tr>\n",
       "    <tr>\n",
       "      <th>...</th>\n",
       "      <td>...</td>\n",
       "      <td>...</td>\n",
       "      <td>...</td>\n",
       "      <td>...</td>\n",
       "      <td>...</td>\n",
       "      <td>...</td>\n",
       "      <td>...</td>\n",
       "      <td>...</td>\n",
       "    </tr>\n",
       "    <tr>\n",
       "      <th>1030</th>\n",
       "      <td>0.24246</td>\n",
       "      <td>0.2049</td>\n",
       "      <td>0.1949</td>\n",
       "      <td>7.0</td>\n",
       "      <td>0.0</td>\n",
       "      <td>4750.000000</td>\n",
       "      <td>561.21</td>\n",
       "      <td>4510.85</td>\n",
       "    </tr>\n",
       "    <tr>\n",
       "      <th>1031</th>\n",
       "      <td>0.21832</td>\n",
       "      <td>0.1940</td>\n",
       "      <td>0.1840</td>\n",
       "      <td>4.0</td>\n",
       "      <td>0.0</td>\n",
       "      <td>5500.000000</td>\n",
       "      <td>130.81</td>\n",
       "      <td>163.97</td>\n",
       "    </tr>\n",
       "    <tr>\n",
       "      <th>1032</th>\n",
       "      <td>0.19855</td>\n",
       "      <td>0.1765</td>\n",
       "      <td>0.1665</td>\n",
       "      <td>NaN</td>\n",
       "      <td>0.0</td>\n",
       "      <td>1666.666667</td>\n",
       "      <td>179.89</td>\n",
       "      <td>1475.70</td>\n",
       "    </tr>\n",
       "    <tr>\n",
       "      <th>1033</th>\n",
       "      <td>0.29371</td>\n",
       "      <td>0.2699</td>\n",
       "      <td>0.2599</td>\n",
       "      <td>5.0</td>\n",
       "      <td>0.0</td>\n",
       "      <td>2681.000000</td>\n",
       "      <td>305.29</td>\n",
       "      <td>5777.86</td>\n",
       "    </tr>\n",
       "    <tr>\n",
       "      <th>1034</th>\n",
       "      <td>0.10692</td>\n",
       "      <td>0.1000</td>\n",
       "      <td>0.0950</td>\n",
       "      <td>NaN</td>\n",
       "      <td>NaN</td>\n",
       "      <td>4160.000000</td>\n",
       "      <td>626.60</td>\n",
       "      <td>3154.17</td>\n",
       "    </tr>\n",
       "  </tbody>\n",
       "</table>\n",
       "<p>1035 rows × 8 columns</p>\n",
       "</div>"
      ],
      "text/plain": [
       "      BorrowerAPR  BorrowerRate  LenderYield  ProsperScore  AmountDelinquent  \\\n",
       "0         0.16516        0.1580       0.1380           NaN             472.0   \n",
       "1         0.12016        0.0920       0.0820           7.0               0.0   \n",
       "2         0.28269        0.2750       0.2400           NaN               NaN   \n",
       "3         0.12528        0.0974       0.0874           9.0           10056.0   \n",
       "4         0.24614        0.2085       0.1985           4.0               0.0   \n",
       "...           ...           ...          ...           ...               ...   \n",
       "1030      0.24246        0.2049       0.1949           7.0               0.0   \n",
       "1031      0.21832        0.1940       0.1840           4.0               0.0   \n",
       "1032      0.19855        0.1765       0.1665           NaN               0.0   \n",
       "1033      0.29371        0.2699       0.2599           5.0               0.0   \n",
       "1034      0.10692        0.1000       0.0950           NaN               NaN   \n",
       "\n",
       "      StatedMonthlyIncome  MonthlyLoanPayment  LP_InterestandFees  \n",
       "0             3083.333333              330.43             1971.14  \n",
       "1             6125.000000              318.93                0.00  \n",
       "2             2083.333333              123.32             1185.63  \n",
       "3             2875.000000              321.45             1052.11  \n",
       "4             9583.333333              563.97             1256.63  \n",
       "...                   ...                 ...                 ...  \n",
       "1030          4750.000000              561.21             4510.85  \n",
       "1031          5500.000000              130.81              163.97  \n",
       "1032          1666.666667              179.89             1475.70  \n",
       "1033          2681.000000              305.29             5777.86  \n",
       "1034          4160.000000              626.60             3154.17  \n",
       "\n",
       "[1035 rows x 8 columns]"
      ]
     },
     "execution_count": 14,
     "metadata": {},
     "output_type": "execute_result"
    }
   ],
   "source": [
    "pri_load_df.select_dtypes('float64')"
   ]
  },
  {
   "cell_type": "code",
   "execution_count": 15,
   "metadata": {},
   "outputs": [
    {
     "data": {
      "text/plain": [
       "ListingCreationDate          category\n",
       "Term                            int64\n",
       "LoanStatus                   category\n",
       "ClosedDate                   category\n",
       "BorrowerAPR                   float64\n",
       "BorrowerRate                  float64\n",
       "LenderYield                   float64\n",
       "ProsperRating (Alpha)        category\n",
       "ProsperScore                  float64\n",
       "ListingCategory (numeric)       int64\n",
       "BorrowerState                category\n",
       "Occupation                   category\n",
       "EmploymentStatus             category\n",
       "AmountDelinquent              float64\n",
       "StatedMonthlyIncome           float64\n",
       "LoanCurrentDaysDelinquent       int64\n",
       "LoanOriginalAmount              int64\n",
       "LoanOriginationDate          category\n",
       "LoanOriginationQuarter       category\n",
       "MonthlyLoanPayment            float64\n",
       "LP_InterestandFees            float64\n",
       "Investors                       int64\n",
       "dtype: object"
      ]
     },
     "execution_count": 15,
     "metadata": {},
     "output_type": "execute_result"
    }
   ],
   "source": [
    "for i in pri_load_df.select_dtypes(\"object\").columns:\n",
    "    pri_load_df[i]=pri_load_df[i].astype('category')\n",
    "    \n",
    "pri_load_df.dtypes"
   ]
  },
  {
   "cell_type": "code",
   "execution_count": 16,
   "metadata": {},
   "outputs": [
    {
     "data": {
      "text/plain": [
       "ListingCreationDate            0\n",
       "Term                           0\n",
       "LoanStatus                     0\n",
       "ClosedDate                   556\n",
       "BorrowerAPR                    0\n",
       "BorrowerRate                   0\n",
       "LenderYield                    0\n",
       "ProsperRating (Alpha)        252\n",
       "ProsperScore                 252\n",
       "ListingCategory (numeric)      0\n",
       "BorrowerState                 52\n",
       "Occupation                    39\n",
       "EmploymentStatus              25\n",
       "AmountDelinquent              81\n",
       "StatedMonthlyIncome            0\n",
       "LoanCurrentDaysDelinquent      0\n",
       "LoanOriginalAmount             0\n",
       "LoanOriginationDate            0\n",
       "LoanOriginationQuarter         0\n",
       "MonthlyLoanPayment             0\n",
       "LP_InterestandFees             0\n",
       "Investors                      0\n",
       "dtype: int64"
      ]
     },
     "execution_count": 16,
     "metadata": {},
     "output_type": "execute_result"
    }
   ],
   "source": [
    "# C. If you find any of the missing values in the ProsperRating column, then drop it\n",
    "pri_load_df.isnull().sum()"
   ]
  },
  {
   "cell_type": "code",
   "execution_count": 17,
   "metadata": {},
   "outputs": [
    {
     "data": {
      "text/plain": [
       "ListingCreationDate            0\n",
       "Term                           0\n",
       "LoanStatus                     0\n",
       "ClosedDate                   556\n",
       "BorrowerAPR                    0\n",
       "BorrowerRate                   0\n",
       "LenderYield                    0\n",
       "ProsperRating (Alpha)          0\n",
       "ProsperScore                   0\n",
       "ListingCategory (numeric)      0\n",
       "BorrowerState                  0\n",
       "Occupation                    14\n",
       "EmploymentStatus               0\n",
       "AmountDelinquent               0\n",
       "StatedMonthlyIncome            0\n",
       "LoanCurrentDaysDelinquent      0\n",
       "LoanOriginalAmount             0\n",
       "LoanOriginationDate            0\n",
       "LoanOriginationQuarter         0\n",
       "MonthlyLoanPayment             0\n",
       "LP_InterestandFees             0\n",
       "Investors                      0\n",
       "dtype: int64"
      ]
     },
     "execution_count": 17,
     "metadata": {},
     "output_type": "execute_result"
    }
   ],
   "source": [
    "pri_load_df.dropna(subset=['ProsperRating (Alpha)'],inplace=True)\n",
    "pri_load_df.isnull().sum()"
   ]
  },
  {
   "cell_type": "raw",
   "metadata": {},
   "source": [
    "we have not found  missing values inside prosperrating column so we have drop rows where prosperrating value is null"
   ]
  },
  {
   "cell_type": "markdown",
   "metadata": {},
   "source": [
    "<h4 class=\"list-group-item list-group-item-action active\" >3. UNIVARIATE ANALYSIS</h4>\n",
    "\n",
    ">#### A. What are the main features of interest in your dataset?\n",
    "\n",
    "    Step1: Apply Univariate analysis using suitable charts for[ Loan status, Employment Status, Stated Monthly Income]\n",
    "\n",
    "    Step2: Check if any column distribution skew or not.\n",
    "\n",
    "    Step3: Write at least 2 observations for each visualization.\n",
    "\n",
    "\n"
   ]
  },
  {
   "cell_type": "code",
   "execution_count": 18,
   "metadata": {},
   "outputs": [
    {
     "data": {
      "text/plain": [
       "<AxesSubplot:>"
      ]
     },
     "execution_count": 18,
     "metadata": {},
     "output_type": "execute_result"
    },
    {
     "data": {
      "image/png": "[encoded data removed]",
      "text/plain": [
       "<Figure size 1368x720 with 1 Axes>"
      ]
     },
     "metadata": {
      "needs_background": "light"
     },
     "output_type": "display_data"
    }
   ],
   "source": [
    "plt.figure(figsize=(19,10))\n",
    "pri_load_df['LoanStatus'].value_counts().plot(kind='bar')"
   ]
  },
  {
   "cell_type": "code",
   "execution_count": 19,
   "metadata": {},
   "outputs": [
    {
     "data": {
      "text/plain": [
       "<AxesSubplot:ylabel='LoanStatus'>"
      ]
     },
     "execution_count": 19,
     "metadata": {},
     "output_type": "execute_result"
    },
    {
     "data": {
      "image/png": "[encoded data removed]",
      "text/plain": [
       "<Figure size 1368x720 with 1 Axes>"
      ]
     },
     "metadata": {},
     "output_type": "display_data"
    }
   ],
   "source": [
    "plt.figure(figsize=(19,10))\n",
    "pri_load_df['LoanStatus'].value_counts().plot(kind='pie',labeldistance=1)"
   ]
  },
  {
   "cell_type": "raw",
   "metadata": {},
   "source": [
    "so from the above graphs for univariate analysis of categorical column called loanstatus\n",
    "we found that loan status with category named current has maximum counts followed by category completed\n",
    "on the basis of count of categories inside loan status we have following order:\n",
    "\n",
    "current>completed>chargedoff>defaulted>past-due(1-15 days)>past-due(61-90days)>past-due(16-30days)>cancelled>past-due(31-60days)"
   ]
  },
  {
   "cell_type": "markdown",
   "metadata": {},
   "source": [
    "# Employment Status"
   ]
  },
  {
   "cell_type": "code",
   "execution_count": 20,
   "metadata": {},
   "outputs": [
    {
     "data": {
      "text/plain": [
       "<AxesSubplot:>"
      ]
     },
     "execution_count": 20,
     "metadata": {},
     "output_type": "execute_result"
    },
    {
     "data": {
      "image/png": "[encoded data removed]",
      "text/plain": [
       "<Figure size 1368x720 with 1 Axes>"
      ]
     },
     "metadata": {
      "needs_background": "light"
     },
     "output_type": "display_data"
    }
   ],
   "source": [
    "plt.figure(figsize=(19,10))\n",
    "pri_load_df['EmploymentStatus'].value_counts().plot(kind='bar')"
   ]
  },
  {
   "cell_type": "raw",
   "metadata": {},
   "source": [
    "count for the employed category inside employment status column is maximum followed by full-time category\n",
    "Retired category has least counts"
   ]
  },
  {
   "cell_type": "markdown",
   "metadata": {},
   "source": [
    "# Stated Monthly Income"
   ]
  },
  {
   "cell_type": "code",
   "execution_count": 21,
   "metadata": {},
   "outputs": [
    {
     "name": "stderr",
     "output_type": "stream",
     "text": [
      "c:\\users\\mayur g\\appdata\\local\\programs\\python\\python38-32\\lib\\site-packages\\seaborn\\distributions.py:2557: FutureWarning: `distplot` is a deprecated function and will be removed in a future version. Please adapt your code to use either `displot` (a figure-level function with similar flexibility) or `histplot` (an axes-level function for histograms).\n",
      "  warnings.warn(msg, FutureWarning)\n"
     ]
    },
    {
     "name": "stdout",
     "output_type": "stream",
     "text": [
      "mean 5996.674223049808\n",
      "median 5000.0\n"
     ]
    },
    {
     "data": {
      "image/png": "[encoded data removed]",
      "text/plain": [
       "<Figure size 432x288 with 1 Axes>"
      ]
     },
     "metadata": {
      "needs_background": "light"
     },
     "output_type": "display_data"
    }
   ],
   "source": [
    "sns.distplot(pri_load_df['StatedMonthlyIncome'])\n",
    "plt.axvline(pri_load_df['StatedMonthlyIncome'].mean(),color='r')\n",
    "plt.axvline(pri_load_df['StatedMonthlyIncome'].median(),color='b')\n",
    "print(\"mean\",pri_load_df['StatedMonthlyIncome'].mean())\n",
    "print(\"median\",pri_load_df['StatedMonthlyIncome'].median())"
   ]
  },
  {
   "cell_type": "code",
   "execution_count": 22,
   "metadata": {},
   "outputs": [
    {
     "name": "stderr",
     "output_type": "stream",
     "text": [
      "c:\\users\\mayur g\\appdata\\local\\programs\\python\\python38-32\\lib\\site-packages\\seaborn\\_decorators.py:36: FutureWarning: Pass the following variable as a keyword arg: x. From version 0.12, the only valid positional argument will be `data`, and passing other arguments without an explicit keyword will result in an error or misinterpretation.\n",
      "  warnings.warn(\n"
     ]
    },
    {
     "data": {
      "text/plain": [
       "<AxesSubplot:xlabel='StatedMonthlyIncome'>"
      ]
     },
     "execution_count": 22,
     "metadata": {},
     "output_type": "execute_result"
    },
    {
     "data": {
      "image/png": "[encoded data removed]",
      "text/plain": [
       "<Figure size 432x288 with 1 Axes>"
      ]
     },
     "metadata": {
      "needs_background": "light"
     },
     "output_type": "display_data"
    }
   ],
   "source": [
    "sns.boxplot(pri_load_df['StatedMonthlyIncome'])"
   ]
  },
  {
   "cell_type": "raw",
   "metadata": {},
   "source": [
    "so from above 2 graphs we have seen that data inside statedmonthlyincome variable is right skewed as mean > median \n",
    "mean is influenced by presence of outliers present above upper whisker which are making the distribution right skewed\n"
   ]
  },
  {
   "cell_type": "markdown",
   "metadata": {},
   "source": [
    "<h4 class=\"list-group-item list-group-item-action active\" >4. BIVARIATE ANALYSIS</h4>\n",
    "\n",
    ">#### A. Check the correlation matrix for all numeric variables. Maintain the Strong positive and Negative correlations columns.\n",
    ">#### B. Check the relation between `LoanOriginalAmount` and `BorrowerAPR` columns. \n",
    "\n",
    "    Step1: Use subplots. \n",
    "    \n",
    "        Plot1: Scatter Plot of LoanOriginalAmount and BorrowerAPR columns    \n",
    "\n",
    "        Plot2: HeatMap of LoanOriginalAmount and BorrowerAPR\n",
    "        \n",
    "    Step2: Write your observations.         \n",
    "        \n",
    ">#### C.Display the seperate box plot for `y = BorrowerAPR`  with x1 = `LoanStatus`, x2 = `EmploymentStatus` columns.Write your observations. \n"
   ]
  },
  {
   "cell_type": "code",
   "execution_count": 23,
   "metadata": {},
   "outputs": [],
   "source": [
    "#A. Check the correlation matrix for all numeric variables. Maintain the Strong positive and Negative correlations columns.¶"
   ]
  },
  {
   "cell_type": "code",
   "execution_count": 24,
   "metadata": {},
   "outputs": [
    {
     "data": {
      "text/html": [
       "<div>\n",
       "<style scoped>\n",
       "    .dataframe tbody tr th:only-of-type {\n",
       "        vertical-align: middle;\n",
       "    }\n",
       "\n",
       "    .dataframe tbody tr th {\n",
       "        vertical-align: top;\n",
       "    }\n",
       "\n",
       "    .dataframe thead th {\n",
       "        text-align: right;\n",
       "    }\n",
       "</style>\n",
       "<table border=\"1\" class=\"dataframe\">\n",
       "  <thead>\n",
       "    <tr style=\"text-align: right;\">\n",
       "      <th></th>\n",
       "      <th>Term</th>\n",
       "      <th>BorrowerAPR</th>\n",
       "      <th>BorrowerRate</th>\n",
       "      <th>LenderYield</th>\n",
       "      <th>ProsperScore</th>\n",
       "      <th>ListingCategory (numeric)</th>\n",
       "      <th>AmountDelinquent</th>\n",
       "      <th>StatedMonthlyIncome</th>\n",
       "      <th>LoanCurrentDaysDelinquent</th>\n",
       "      <th>LoanOriginalAmount</th>\n",
       "      <th>MonthlyLoanPayment</th>\n",
       "      <th>LP_InterestandFees</th>\n",
       "      <th>Investors</th>\n",
       "    </tr>\n",
       "  </thead>\n",
       "  <tbody>\n",
       "    <tr>\n",
       "      <th>Term</th>\n",
       "      <td>1.000000</td>\n",
       "      <td>-0.114773</td>\n",
       "      <td>-0.051395</td>\n",
       "      <td>-0.051395</td>\n",
       "      <td>0.090518</td>\n",
       "      <td>-0.108346</td>\n",
       "      <td>-0.066580</td>\n",
       "      <td>0.075713</td>\n",
       "      <td>-0.090192</td>\n",
       "      <td>0.363728</td>\n",
       "      <td>0.075655</td>\n",
       "      <td>0.166858</td>\n",
       "      <td>-0.030132</td>\n",
       "    </tr>\n",
       "    <tr>\n",
       "      <th>BorrowerAPR</th>\n",
       "      <td>-0.114773</td>\n",
       "      <td>1.000000</td>\n",
       "      <td>0.993566</td>\n",
       "      <td>0.993566</td>\n",
       "      <td>-0.640320</td>\n",
       "      <td>0.158519</td>\n",
       "      <td>0.005908</td>\n",
       "      <td>-0.252639</td>\n",
       "      <td>0.227554</td>\n",
       "      <td>-0.422646</td>\n",
       "      <td>-0.312658</td>\n",
       "      <td>0.230707</td>\n",
       "      <td>-0.234232</td>\n",
       "    </tr>\n",
       "    <tr>\n",
       "      <th>BorrowerRate</th>\n",
       "      <td>-0.051395</td>\n",
       "      <td>0.993566</td>\n",
       "      <td>1.000000</td>\n",
       "      <td>1.000000</td>\n",
       "      <td>-0.619934</td>\n",
       "      <td>0.148140</td>\n",
       "      <td>-0.003389</td>\n",
       "      <td>-0.254265</td>\n",
       "      <td>0.238240</td>\n",
       "      <td>-0.412322</td>\n",
       "      <td>-0.322830</td>\n",
       "      <td>0.257639</td>\n",
       "      <td>-0.214173</td>\n",
       "    </tr>\n",
       "    <tr>\n",
       "      <th>LenderYield</th>\n",
       "      <td>-0.051395</td>\n",
       "      <td>0.993566</td>\n",
       "      <td>1.000000</td>\n",
       "      <td>1.000000</td>\n",
       "      <td>-0.619934</td>\n",
       "      <td>0.148140</td>\n",
       "      <td>-0.003389</td>\n",
       "      <td>-0.254265</td>\n",
       "      <td>0.238240</td>\n",
       "      <td>-0.412322</td>\n",
       "      <td>-0.322830</td>\n",
       "      <td>0.257639</td>\n",
       "      <td>-0.214173</td>\n",
       "    </tr>\n",
       "    <tr>\n",
       "      <th>ProsperScore</th>\n",
       "      <td>0.090518</td>\n",
       "      <td>-0.640320</td>\n",
       "      <td>-0.619934</td>\n",
       "      <td>-0.619934</td>\n",
       "      <td>1.000000</td>\n",
       "      <td>-0.041906</td>\n",
       "      <td>-0.062707</td>\n",
       "      <td>0.199536</td>\n",
       "      <td>-0.072170</td>\n",
       "      <td>0.245904</td>\n",
       "      <td>0.144268</td>\n",
       "      <td>0.016248</td>\n",
       "      <td>0.311131</td>\n",
       "    </tr>\n",
       "    <tr>\n",
       "      <th>ListingCategory (numeric)</th>\n",
       "      <td>-0.108346</td>\n",
       "      <td>0.158519</td>\n",
       "      <td>0.148140</td>\n",
       "      <td>0.148140</td>\n",
       "      <td>-0.041906</td>\n",
       "      <td>1.000000</td>\n",
       "      <td>0.076968</td>\n",
       "      <td>-0.082321</td>\n",
       "      <td>0.010424</td>\n",
       "      <td>-0.229170</td>\n",
       "      <td>-0.206464</td>\n",
       "      <td>0.031386</td>\n",
       "      <td>-0.033180</td>\n",
       "    </tr>\n",
       "    <tr>\n",
       "      <th>AmountDelinquent</th>\n",
       "      <td>-0.066580</td>\n",
       "      <td>0.005908</td>\n",
       "      <td>-0.003389</td>\n",
       "      <td>-0.003389</td>\n",
       "      <td>-0.062707</td>\n",
       "      <td>0.076968</td>\n",
       "      <td>1.000000</td>\n",
       "      <td>-0.017033</td>\n",
       "      <td>-0.005276</td>\n",
       "      <td>-0.071448</td>\n",
       "      <td>-0.062087</td>\n",
       "      <td>-0.056868</td>\n",
       "      <td>-0.045042</td>\n",
       "    </tr>\n",
       "    <tr>\n",
       "      <th>StatedMonthlyIncome</th>\n",
       "      <td>0.075713</td>\n",
       "      <td>-0.252639</td>\n",
       "      <td>-0.254265</td>\n",
       "      <td>-0.254265</td>\n",
       "      <td>0.199536</td>\n",
       "      <td>-0.082321</td>\n",
       "      <td>-0.017033</td>\n",
       "      <td>1.000000</td>\n",
       "      <td>-0.098607</td>\n",
       "      <td>0.418816</td>\n",
       "      <td>0.396892</td>\n",
       "      <td>0.108826</td>\n",
       "      <td>0.088789</td>\n",
       "    </tr>\n",
       "    <tr>\n",
       "      <th>LoanCurrentDaysDelinquent</th>\n",
       "      <td>-0.090192</td>\n",
       "      <td>0.227554</td>\n",
       "      <td>0.238240</td>\n",
       "      <td>0.238240</td>\n",
       "      <td>-0.072170</td>\n",
       "      <td>0.010424</td>\n",
       "      <td>-0.005276</td>\n",
       "      <td>-0.098607</td>\n",
       "      <td>1.000000</td>\n",
       "      <td>-0.136783</td>\n",
       "      <td>-0.101961</td>\n",
       "      <td>-0.029949</td>\n",
       "      <td>0.041179</td>\n",
       "    </tr>\n",
       "    <tr>\n",
       "      <th>LoanOriginalAmount</th>\n",
       "      <td>0.363728</td>\n",
       "      <td>-0.422646</td>\n",
       "      <td>-0.412322</td>\n",
       "      <td>-0.412322</td>\n",
       "      <td>0.245904</td>\n",
       "      <td>-0.229170</td>\n",
       "      <td>-0.071448</td>\n",
       "      <td>0.418816</td>\n",
       "      <td>-0.136783</td>\n",
       "      <td>1.000000</td>\n",
       "      <td>0.924229</td>\n",
       "      <td>0.269348</td>\n",
       "      <td>0.298321</td>\n",
       "    </tr>\n",
       "    <tr>\n",
       "      <th>MonthlyLoanPayment</th>\n",
       "      <td>0.075655</td>\n",
       "      <td>-0.312658</td>\n",
       "      <td>-0.322830</td>\n",
       "      <td>-0.322830</td>\n",
       "      <td>0.144268</td>\n",
       "      <td>-0.206464</td>\n",
       "      <td>-0.062087</td>\n",
       "      <td>0.396892</td>\n",
       "      <td>-0.101961</td>\n",
       "      <td>0.924229</td>\n",
       "      <td>1.000000</td>\n",
       "      <td>0.291726</td>\n",
       "      <td>0.286374</td>\n",
       "    </tr>\n",
       "    <tr>\n",
       "      <th>LP_InterestandFees</th>\n",
       "      <td>0.166858</td>\n",
       "      <td>0.230707</td>\n",
       "      <td>0.257639</td>\n",
       "      <td>0.257639</td>\n",
       "      <td>0.016248</td>\n",
       "      <td>0.031386</td>\n",
       "      <td>-0.056868</td>\n",
       "      <td>0.108826</td>\n",
       "      <td>-0.029949</td>\n",
       "      <td>0.269348</td>\n",
       "      <td>0.291726</td>\n",
       "      <td>1.000000</td>\n",
       "      <td>0.358959</td>\n",
       "    </tr>\n",
       "    <tr>\n",
       "      <th>Investors</th>\n",
       "      <td>-0.030132</td>\n",
       "      <td>-0.234232</td>\n",
       "      <td>-0.214173</td>\n",
       "      <td>-0.214173</td>\n",
       "      <td>0.311131</td>\n",
       "      <td>-0.033180</td>\n",
       "      <td>-0.045042</td>\n",
       "      <td>0.088789</td>\n",
       "      <td>0.041179</td>\n",
       "      <td>0.298321</td>\n",
       "      <td>0.286374</td>\n",
       "      <td>0.358959</td>\n",
       "      <td>1.000000</td>\n",
       "    </tr>\n",
       "  </tbody>\n",
       "</table>\n",
       "</div>"
      ],
      "text/plain": [
       "                               Term  BorrowerAPR  BorrowerRate  LenderYield  \\\n",
       "Term                       1.000000    -0.114773     -0.051395    -0.051395   \n",
       "BorrowerAPR               -0.114773     1.000000      0.993566     0.993566   \n",
       "BorrowerRate              -0.051395     0.993566      1.000000     1.000000   \n",
       "LenderYield               -0.051395     0.993566      1.000000     1.000000   \n",
       "ProsperScore               0.090518    -0.640320     -0.619934    -0.619934   \n",
       "ListingCategory (numeric) -0.108346     0.158519      0.148140     0.148140   \n",
       "AmountDelinquent          -0.066580     0.005908     -0.003389    -0.003389   \n",
       "StatedMonthlyIncome        0.075713    -0.252639     -0.254265    -0.254265   \n",
       "LoanCurrentDaysDelinquent -0.090192     0.227554      0.238240     0.238240   \n",
       "LoanOriginalAmount         0.363728    -0.422646     -0.412322    -0.412322   \n",
       "MonthlyLoanPayment         0.075655    -0.312658     -0.322830    -0.322830   \n",
       "LP_InterestandFees         0.166858     0.230707      0.257639     0.257639   \n",
       "Investors                 -0.030132    -0.234232     -0.214173    -0.214173   \n",
       "\n",
       "                           ProsperScore  ListingCategory (numeric)  \\\n",
       "Term                           0.090518                  -0.108346   \n",
       "BorrowerAPR                   -0.640320                   0.158519   \n",
       "BorrowerRate                  -0.619934                   0.148140   \n",
       "LenderYield                   -0.619934                   0.148140   \n",
       "ProsperScore                   1.000000                  -0.041906   \n",
       "ListingCategory (numeric)     -0.041906                   1.000000   \n",
       "AmountDelinquent              -0.062707                   0.076968   \n",
       "StatedMonthlyIncome            0.199536                  -0.082321   \n",
       "LoanCurrentDaysDelinquent     -0.072170                   0.010424   \n",
       "LoanOriginalAmount             0.245904                  -0.229170   \n",
       "MonthlyLoanPayment             0.144268                  -0.206464   \n",
       "LP_InterestandFees             0.016248                   0.031386   \n",
       "Investors                      0.311131                  -0.033180   \n",
       "\n",
       "                           AmountDelinquent  StatedMonthlyIncome  \\\n",
       "Term                              -0.066580             0.075713   \n",
       "BorrowerAPR                        0.005908            -0.252639   \n",
       "BorrowerRate                      -0.003389            -0.254265   \n",
       "LenderYield                       -0.003389            -0.254265   \n",
       "ProsperScore                      -0.062707             0.199536   \n",
       "ListingCategory (numeric)          0.076968            -0.082321   \n",
       "AmountDelinquent                   1.000000            -0.017033   \n",
       "StatedMonthlyIncome               -0.017033             1.000000   \n",
       "LoanCurrentDaysDelinquent         -0.005276            -0.098607   \n",
       "LoanOriginalAmount                -0.071448             0.418816   \n",
       "MonthlyLoanPayment                -0.062087             0.396892   \n",
       "LP_InterestandFees                -0.056868             0.108826   \n",
       "Investors                         -0.045042             0.088789   \n",
       "\n",
       "                           LoanCurrentDaysDelinquent  LoanOriginalAmount  \\\n",
       "Term                                       -0.090192            0.363728   \n",
       "BorrowerAPR                                 0.227554           -0.422646   \n",
       "BorrowerRate                                0.238240           -0.412322   \n",
       "LenderYield                                 0.238240           -0.412322   \n",
       "ProsperScore                               -0.072170            0.245904   \n",
       "ListingCategory (numeric)                   0.010424           -0.229170   \n",
       "AmountDelinquent                           -0.005276           -0.071448   \n",
       "StatedMonthlyIncome                        -0.098607            0.418816   \n",
       "LoanCurrentDaysDelinquent                   1.000000           -0.136783   \n",
       "LoanOriginalAmount                         -0.136783            1.000000   \n",
       "MonthlyLoanPayment                         -0.101961            0.924229   \n",
       "LP_InterestandFees                         -0.029949            0.269348   \n",
       "Investors                                   0.041179            0.298321   \n",
       "\n",
       "                           MonthlyLoanPayment  LP_InterestandFees  Investors  \n",
       "Term                                 0.075655            0.166858  -0.030132  \n",
       "BorrowerAPR                         -0.312658            0.230707  -0.234232  \n",
       "BorrowerRate                        -0.322830            0.257639  -0.214173  \n",
       "LenderYield                         -0.322830            0.257639  -0.214173  \n",
       "ProsperScore                         0.144268            0.016248   0.311131  \n",
       "ListingCategory (numeric)           -0.206464            0.031386  -0.033180  \n",
       "AmountDelinquent                    -0.062087           -0.056868  -0.045042  \n",
       "StatedMonthlyIncome                  0.396892            0.108826   0.088789  \n",
       "LoanCurrentDaysDelinquent           -0.101961           -0.029949   0.041179  \n",
       "LoanOriginalAmount                   0.924229            0.269348   0.298321  \n",
       "MonthlyLoanPayment                   1.000000            0.291726   0.286374  \n",
       "LP_InterestandFees                   0.291726            1.000000   0.358959  \n",
       "Investors                            0.286374            0.358959   1.000000  "
      ]
     },
     "execution_count": 24,
     "metadata": {},
     "output_type": "execute_result"
    }
   ],
   "source": [
    "pri_load_df.corr()"
   ]
  },
  {
   "cell_type": "raw",
   "metadata": {},
   "source": [
    "from correlation matrix we can see various correlation data ranging from -1  to 1 which shows degree of relation between two varibles\n",
    "\n",
    "#strong positive correlation:--\n",
    "a.borrowerapr and borrower rate have good positive correlation\n",
    "b.borrowerapr and lenderyield also shows good positive correlation\n",
    "c.monthlyloanpayment and loanorinalamount shows good positive correlation\n",
    "\n",
    "#strong negative correlation:--\n",
    "a.borrowerapr and prosperscore has some good negative correlation\n",
    "b.borrowerrate and prosperscore also has some good negative correlation\n",
    "c.lenderyield and prosperscore also has good negative correlation"
   ]
  },
  {
   "cell_type": "code",
   "execution_count": 25,
   "metadata": {},
   "outputs": [],
   "source": [
    "# B. Check the relation between LoanOriginalAmount and BorrowerAPR columns.\n",
    "# Step1: Use subplots. \n",
    "\n",
    "#     Plot1: Scatter Plot of LoanOriginalAmount and BorrowerAPR columns    \n",
    "\n",
    "#     Plot2: HeatMap of LoanOriginalAmount and BorrowerAPR\n",
    "\n",
    "# Step2: Write your observations.  "
   ]
  },
  {
   "cell_type": "code",
   "execution_count": 26,
   "metadata": {},
   "outputs": [
    {
     "data": {
      "text/plain": [
       "<AxesSubplot:>"
      ]
     },
     "execution_count": 26,
     "metadata": {},
     "output_type": "execute_result"
    },
    {
     "data": {
      "image/png": "[encoded data removed]",
      "text/plain": [
       "<Figure size 1440x720 with 3 Axes>"
      ]
     },
     "metadata": {
      "needs_background": "light"
     },
     "output_type": "display_data"
    }
   ],
   "source": [
    "plt.figure(figsize=(20,10))\n",
    "plt.subplot(2,2,1)\n",
    "sns.scatterplot(x=pri_load_df['BorrowerAPR'],y=pri_load_df['LoanOriginalAmount'])\n",
    "plt.subplot(2,2,2)\n",
    "sns.heatmap(pri_load_df[['LoanOriginalAmount','BorrowerAPR']].corr(),annot=True)"
   ]
  },
  {
   "cell_type": "raw",
   "metadata": {},
   "source": [
    "so from heatmap of correlation between loanorginalamount and borrowerapr we can see that \n",
    "there is a negative correlation between both the variables \n",
    "so as there is negative correlation between the two variables we can see in scatterplot that as the value of borrower apr\n",
    "is increasing there is decrease in loanoriginalamount\n",
    "\n",
    "the degree of negative correlation among two variables is not that much strong as it lies below -0.5 range"
   ]
  },
  {
   "cell_type": "code",
   "execution_count": 27,
   "metadata": {},
   "outputs": [],
   "source": [
    "# C.Display the seperate box plot for y = BorrowerAPR with x1 = LoanStatus, x2 = EmploymentStatus columns.\n",
    "#Write your observations."
   ]
  },
  {
   "cell_type": "code",
   "execution_count": 28,
   "metadata": {},
   "outputs": [
    {
     "data": {
      "text/plain": [
       "<AxesSubplot:xlabel='LoanStatus', ylabel='BorrowerAPR'>"
      ]
     },
     "execution_count": 28,
     "metadata": {},
     "output_type": "execute_result"
    },
    {
     "data": {
      "image/png": "[encoded data removed]",
      "text/plain": [
       "<Figure size 1368x720 with 1 Axes>"
      ]
     },
     "metadata": {
      "needs_background": "light"
     },
     "output_type": "display_data"
    }
   ],
   "source": [
    "plt.figure(figsize=(19,10))\n",
    "sns.boxplot(x=pri_load_df['LoanStatus'],y=pri_load_df['BorrowerAPR'])"
   ]
  },
  {
   "cell_type": "code",
   "execution_count": 29,
   "metadata": {},
   "outputs": [],
   "source": [
    "# pri_load_df[['BorrowerAPR','LoanStatus']][pri_load_df['LoanStatus']=='Past Due (31-60 days)']"
   ]
  },
  {
   "cell_type": "raw",
   "metadata": {},
   "source": [
    "observations::--\n",
    "a.the lowest and maximum borrowerapr value is for completed category of loanstatus colum\n",
    "b.mean value for defaulted loanstatus category  is highest followed by past due 16-30 days loanstatus\n"
   ]
  },
  {
   "cell_type": "code",
   "execution_count": 30,
   "metadata": {},
   "outputs": [
    {
     "data": {
      "text/plain": [
       "<AxesSubplot:xlabel='EmploymentStatus', ylabel='BorrowerAPR'>"
      ]
     },
     "execution_count": 30,
     "metadata": {},
     "output_type": "execute_result"
    },
    {
     "data": {
      "image/png": "[encoded data removed]",
      "text/plain": [
       "<Figure size 1368x720 with 1 Axes>"
      ]
     },
     "metadata": {
      "needs_background": "light"
     },
     "output_type": "display_data"
    }
   ],
   "source": [
    "plt.figure(figsize=(19,10))\n",
    "sns.boxplot(x=pri_load_df['EmploymentStatus'],y=pri_load_df['BorrowerAPR'])"
   ]
  },
  {
   "cell_type": "raw",
   "metadata": {},
   "source": [
    "observations:--\n",
    "\n",
    "\n",
    "a.employed category of employmentstatus column has minimum value for borrowerapr followed by next minimum value for full time category\n",
    "\n",
    "b.mean/median value for employed and full-time category is same\n",
    "\n",
    "c.self-employed category has maximum borrowerapr value\n"
   ]
  },
  {
   "cell_type": "markdown",
   "metadata": {},
   "source": [
    "<h4 class=\"list-group-item list-group-item-action active\" >5.  MULTI VARIATE ANALYSIS, FEATURE ENGINEERING</h4>\n",
    "\n",
    ">#### A. Write a program\n",
    "\n",
    "    Step 1: Create a  condition = 'LoanStatus'== 'Completed'| 'LoanStatus' == 'Defaulted' |\\'LoanStatus' == 'Chargedoff'\n",
    "\n",
    "    Step2: Create a user define function  using condition and `LoanStatus` column.\n",
    "\n",
    "    Hint: df['LoanStatus'] = df.apply(user define function , axis=1)\n",
    "    \n",
    "        Sample output : \n",
    "        \n",
    "        \n",
    "        Completed    168\n",
    "        \n",
    "        Defaulted     59\n",
    "\n",
    "\n",
    ">#### B. Write a program\n",
    "\n",
    "    Step 1: Create a  dictionary called categories = 1: 'Debt Consolidation', 2: 'Home Improvement', 3: 'Business', 6: 'Auto', 7: 'Other'\n",
    "\n",
    "    Step2: Create a user define function  using categories and `ListingCategory (numeric)` column.\n",
    "\n",
    "    Hint: df['ListingCategory (numeric)'] = df.apply(user define function , axis=1)\n",
    "    \n",
    "        Sample output : \n",
    "        \n",
    "        \n",
    "        Debt Consolidation    106\n",
    "\n",
    "        Other                  65\n",
    "\n",
    "        Business               25\n",
    "\n",
    "        Home Improvement       22\n",
    "\n",
    "        Auto                    9\n",
    "\n",
    ">#### C. Display the box plot for `ProsperRating (Alpha)` vs `LoanOriginalAmount` and hue = `Loan Status`[Completed,Defaulted]. Write your observations.\n",
    "\n",
    ">#### D. Display the catplot for `ProsperRating (Alpha)` vs `ListingCategory (numeric)`[Debt Consolidation,Other,Business,Home Improvement,Auto] and hue = `Loan Status`[Completed,Defaulted]. Write your observations."
   ]
  },
  {
   "cell_type": "code",
   "execution_count": 31,
   "metadata": {},
   "outputs": [],
   "source": [
    "# A. Write a program\n",
    "# Step 1: Create a  condition = 'LoanStatus'== 'Completed'| 'LoanStatus' == 'Defaulted' |\\'LoanStatus' == 'Chargedoff'\n",
    "\n",
    "# Step2: Create a user define function  using condition and `LoanStatus` column.\n",
    "\n",
    "# Hint: df['LoanStatus'] = df.apply(user define function , axis=1)\n",
    "\n",
    "\n"
   ]
  },
  {
   "cell_type": "code",
   "execution_count": 32,
   "metadata": {},
   "outputs": [
    {
     "data": {
      "text/plain": [
       "Completed    168\n",
       "Defaulted     59\n",
       "Name: LoanStatus, dtype: int64"
      ]
     },
     "execution_count": 32,
     "metadata": {},
     "output_type": "execute_result"
    }
   ],
   "source": [
    "def get_loan_status_count(data):\n",
    "    try:\n",
    "        if(data=='Completed'):\n",
    "            return \"Completed\"\n",
    "        if(data==\"Defaulted\"):\n",
    "            return \"Defaulted\"\n",
    "        if(data==\"Chargedoff\"):\n",
    "            return \"Defaulted\"\n",
    "\n",
    "        return \" \"  \n",
    "    except Exception as e:\n",
    "        pass\n",
    "    \n",
    "        \n",
    "        \n",
    "pri_load_df[\"LoanStatus\"]=pri_load_df[\"LoanStatus\"].apply(get_loan_status_count)\n",
    "\n",
    "pri_load_df[pri_load_df['LoanStatus']!=\" \"]['LoanStatus'].value_counts()\n"
   ]
  },
  {
   "cell_type": "code",
   "execution_count": 33,
   "metadata": {},
   "outputs": [],
   "source": [
    "# B. Write a program\n",
    "# Step 1: Create a  dictionary called categories = 1: 'Debt Consolidation', 2: 'Home Improvement', 3: 'Business', 6: 'Auto', 7: 'Other'\n",
    "\n",
    "# Step2: Create a user define function  using categories and `ListingCategory (numeric)` column.\n",
    "\n",
    "# Hint: df['ListingCategory (numeric)'] = df.apply(user define function , axis=1)\n"
   ]
  },
  {
   "cell_type": "code",
   "execution_count": 34,
   "metadata": {},
   "outputs": [
    {
     "data": {
      "text/plain": [
       "Debt Consolidation    483\n",
       "Other                  80\n",
       "Home Improvement       68\n",
       "Business               41\n",
       "Auto                   22\n",
       "Name: ListingCategory (numeric), dtype: int64"
      ]
     },
     "execution_count": 34,
     "metadata": {},
     "output_type": "execute_result"
    }
   ],
   "source": [
    "\n",
    "categories= {1: 'Debt Consolidation', 2: 'Home Improvement', 3: 'Business', 6: 'Auto', 7: 'Other'}\n",
    "\n",
    "def get_categories(data):\n",
    "    try:\n",
    "        category=categories.get(data)\n",
    "        return category\n",
    "    except Exception as e:\n",
    "        print(e)\n",
    "   \n",
    "\n",
    "\n",
    " \n",
    "pri_load_df['ListingCategory (numeric)'] = pri_load_df['ListingCategory (numeric)'].apply(get_categories)\n",
    "\n",
    "pri_load_df['ListingCategory (numeric)'].value_counts()\n"
   ]
  },
  {
   "cell_type": "code",
   "execution_count": 35,
   "metadata": {},
   "outputs": [
    {
     "data": {
      "text/plain": [
       "<AxesSubplot:xlabel='ProsperRating (Alpha)', ylabel='LoanOriginalAmount'>"
      ]
     },
     "execution_count": 35,
     "metadata": {},
     "output_type": "execute_result"
    },
    {
     "data": {
      "image/png": "[encoded data removed]",
      "text/plain": [
       "<Figure size 1080x720 with 1 Axes>"
      ]
     },
     "metadata": {
      "needs_background": "light"
     },
     "output_type": "display_data"
    }
   ],
   "source": [
    "# C. Display the box plot for ProsperRating (Alpha) vs LoanOriginalAmount and hue = Loan Status[Completed,Defaulted].\n",
    "# Write your observations\n",
    "plt.figure(figsize=(15,10))\n",
    "sns.boxplot(x='ProsperRating (Alpha)',y='LoanOriginalAmount',hue='LoanStatus',\n",
    "            data=pri_load_df[(pri_load_df['LoanStatus']=='Completed') | (pri_load_df['LoanStatus']=='Defaulted')])"
   ]
  },
  {
   "cell_type": "raw",
   "metadata": {},
   "source": [
    "OBSERVATIONS:--->>\n",
    "a.there seems to be outliers present in A-completed,C-Completed and C-Defaulted prosperrating categories\n",
    "\n",
    "b.the mean value of loanoriginalamount is almost same for both completed and defaulted category in \n",
    "prosperrating D and E\n",
    "\n",
    "c.the mean/median value of defaulted loanoriginalamount is higher than completed in most of the  prosperratings\n",
    "\n",
    "\n",
    "d.the maximum loanorignalamount value lies for completed in prosperrating -AA\n"
   ]
  },
  {
   "cell_type": "code",
   "execution_count": 36,
   "metadata": {},
   "outputs": [],
   "source": [
    "# new_df=pri_load_df[(pri_load_df['LoanStatus']=='Completed') | (pri_load_df['LoanStatus']=='Defaulted')]"
   ]
  },
  {
   "cell_type": "code",
   "execution_count": 37,
   "metadata": {},
   "outputs": [
    {
     "name": "stderr",
     "output_type": "stream",
     "text": [
      "<ipython-input-37-38d5e50c135c>:6: SettingWithCopyWarning: \n",
      "A value is trying to be set on a copy of a slice from a DataFrame.\n",
      "Try using .loc[row_indexer,col_indexer] = value instead\n",
      "\n",
      "See the caveats in the documentation: https://pandas.pydata.org/pandas-docs/stable/user_guide/indexing.html#returning-a-view-versus-a-copy\n",
      "  new_df['ListingCategory (numeric)']=new_df['ListingCategory (numeric)'].fillna(\"\")\n"
     ]
    },
    {
     "data": {
      "text/plain": [
       "<seaborn.axisgrid.FacetGrid at 0x14462748>"
      ]
     },
     "execution_count": 37,
     "metadata": {},
     "output_type": "execute_result"
    },
    {
     "data": {
      "text/plain": [
       "<Figure size 1368x720 with 0 Axes>"
      ]
     },
     "metadata": {},
     "output_type": "display_data"
    },
    {
     "data": {
      "image/png": "[encoded data removed]",
      "text/plain": [
       "<Figure size 450.125x360 with 1 Axes>"
      ]
     },
     "metadata": {
      "needs_background": "light"
     },
     "output_type": "display_data"
    }
   ],
   "source": [
    "# D. Display the catplot for ProsperRating (Alpha) vs ListingCategory (numeric)[Debt Consolidation,Other,Business,Home Improvement,Auto] \n",
    "# and hue = Loan Status[Completed,Defaulted]. Write your observations.\n",
    "\n",
    "new_df=pri_load_df[(pri_load_df['LoanStatus']=='Completed') | (pri_load_df['LoanStatus']=='Defaulted')]\n",
    "\n",
    "new_df['ListingCategory (numeric)']=new_df['ListingCategory (numeric)'].fillna(\"\")\n",
    "\n",
    "new_df=new_df[new_df['ListingCategory (numeric)']!=\"\"]\n",
    "\n",
    "plt.figure(figsize=(19,10))\n",
    "\n",
    "sns.catplot(x='ProsperRating (Alpha)',y='ListingCategory (numeric)',hue='LoanStatus',\n",
    "            data=new_df)"
   ]
  },
  {
   "cell_type": "raw",
   "metadata": {},
   "source": [
    "a.there seems to be few counts of defaulted loanstatus in prosperratng D and ListingCategory Business ,\n",
    "  prosperratng D and ListingCategory other,prosperratng D and ListingCategory Homeimprovement,\n",
    "  prosperratng e and ListingCategory Business,other,homeimprovement,auto\n",
    "  prosperratng HR and ListingCategory other,homeimprovement\n",
    "  \n",
    "  \n",
    "b.most of the values in prosperrating categories and listing category are having loanstatus value as completed\n",
    "\n",
    "c.loanstatus of defaulted is seen very few categories among prosperrating and listingcategory catplot\n",
    "\n"
   ]
  },
  {
   "cell_type": "code",
   "execution_count": null,
   "metadata": {},
   "outputs": [],
   "source": []
  },
  {
   "cell_type": "code",
   "execution_count": null,
   "metadata": {},
   "outputs": [],
   "source": []
  },
  {
   "cell_type": "code",
   "execution_count": null,
   "metadata": {},
   "outputs": [],
   "source": []
  },
  {
   "cell_type": "code",
   "execution_count": null,
   "metadata": {},
   "outputs": [],
   "source": []
  },
  {
   "cell_type": "code",
   "execution_count": null,
   "metadata": {},
   "outputs": [],
   "source": []
  },
  {
   "cell_type": "code",
   "execution_count": null,
   "metadata": {},
   "outputs": [],
   "source": []
  },
  {
   "cell_type": "code",
   "execution_count": null,
   "metadata": {},
   "outputs": [],
   "source": []
  }
 ],
 "metadata": {
  "kernelspec": {
   "display_name": "Python 3",
   "language": "python",
   "name": "python3"
  },
  "language_info": {
   "codemirror_mode": {
    "name": "ipython",
    "version": 3
   },
   "file_extension": ".py",
   "mimetype": "text/x-python",
   "name": "python",
   "nbconvert_exporter": "python",
   "pygments_lexer": "ipython3",
   "version": "3.8.5"
  }
 },
 "nbformat": 4,
 "nbformat_minor": 4
}
